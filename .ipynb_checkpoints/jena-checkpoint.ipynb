{
 "cells": [
  {
   "cell_type": "code",
   "execution_count": 1,
   "id": "d30f32e8-d9ff-45d4-9958-f4c8e869dc9f",
   "metadata": {},
   "outputs": [],
   "source": [
    "#Importing all the necessary libraries\n",
    "import tensorflow as tf\n",
    "import numpy as np\n",
    "import matplotlib.pyplot as plt\n",
    "import pandas as pd\n",
    "\n",
    "#Importing the .csv file using pandas\n",
    "df = pd.read_csv('jena_climate_2009_2016.csv')\n",
    "\n",
    "#Filtering the minute datas from the dataframe\n",
    "df = df[5::6]\n",
    "\n",
    "#Changes the index column and drops the datetime column\n",
    "df.index = pd.to_datetime(df['Date Time'], format = \"%d.%m.%Y %H:%M:%S\")\n",
    "df = df.drop(['Date Time'], axis = 1)"
   ]
  },
  {
   "cell_type": "code",
   "execution_count": 2,
   "id": "7abbbc0e-4bd7-474a-9814-868e12ca7d5b",
   "metadata": {},
   "outputs": [],
   "source": [
    "temp = df[['T (degC)']]"
   ]
  },
  {
   "cell_type": "code",
   "execution_count": 3,
   "id": "d430fb71-b3a6-48d0-820b-03c69a11c63e",
   "metadata": {},
   "outputs": [
    {
     "data": {
      "text/html": [
       "<div>\n",
       "<style scoped>\n",
       "    .dataframe tbody tr th:only-of-type {\n",
       "        vertical-align: middle;\n",
       "    }\n",
       "\n",
       "    .dataframe tbody tr th {\n",
       "        vertical-align: top;\n",
       "    }\n",
       "\n",
       "    .dataframe thead th {\n",
       "        text-align: right;\n",
       "    }\n",
       "</style>\n",
       "<table border=\"1\" class=\"dataframe\">\n",
       "  <thead>\n",
       "    <tr style=\"text-align: right;\">\n",
       "      <th></th>\n",
       "      <th>T (degC)</th>\n",
       "    </tr>\n",
       "    <tr>\n",
       "      <th>Date Time</th>\n",
       "      <th></th>\n",
       "    </tr>\n",
       "  </thead>\n",
       "  <tbody>\n",
       "    <tr>\n",
       "      <th>2009-01-01 01:00:00</th>\n",
       "      <td>-8.05</td>\n",
       "    </tr>\n",
       "    <tr>\n",
       "      <th>2009-01-01 02:00:00</th>\n",
       "      <td>-8.88</td>\n",
       "    </tr>\n",
       "    <tr>\n",
       "      <th>2009-01-01 03:00:00</th>\n",
       "      <td>-8.81</td>\n",
       "    </tr>\n",
       "    <tr>\n",
       "      <th>2009-01-01 04:00:00</th>\n",
       "      <td>-9.05</td>\n",
       "    </tr>\n",
       "    <tr>\n",
       "      <th>2009-01-01 05:00:00</th>\n",
       "      <td>-9.63</td>\n",
       "    </tr>\n",
       "  </tbody>\n",
       "</table>\n",
       "</div>"
      ],
      "text/plain": [
       "                     T (degC)\n",
       "Date Time                    \n",
       "2009-01-01 01:00:00     -8.05\n",
       "2009-01-01 02:00:00     -8.88\n",
       "2009-01-01 03:00:00     -8.81\n",
       "2009-01-01 04:00:00     -9.05\n",
       "2009-01-01 05:00:00     -9.63"
      ]
     },
     "execution_count": 3,
     "metadata": {},
     "output_type": "execute_result"
    }
   ],
   "source": [
    "temp.head()"
   ]
  },
  {
   "cell_type": "code",
   "execution_count": 4,
   "id": "e2fb334d-4bab-46ab-b9c2-1b2fd2021bb4",
   "metadata": {},
   "outputs": [
    {
     "data": {
      "text/plain": [
       "(1, 1)"
      ]
     },
     "execution_count": 4,
     "metadata": {},
     "output_type": "execute_result"
    }
   ],
   "source": [
    "temp_np  = temp.to_numpy()\n",
    "temp_np[[2]].shape"
   ]
  },
  {
   "cell_type": "code",
   "execution_count": 5,
   "id": "918b29e6-0686-4b6b-8b90-36758a73debf",
   "metadata": {},
   "outputs": [],
   "source": [
    "def df_to_array(df, win_size = 5):\n",
    "    df_as_np = df.to_numpy()\n",
    "    X = []\n",
    "    Y = []\n",
    "\n",
    "    for i in range(len(temp) - win_size):\n",
    "        X.append(df_as_np[i:i+win_size])\n",
    "        Y.append(df_as_np[i+win_size])\n",
    "    return np.array(X), np.array(Y)"
   ]
  },
  {
   "cell_type": "code",
   "execution_count": 6,
   "id": "517e2a51-0795-4354-aeaa-de1c7f94f560",
   "metadata": {},
   "outputs": [],
   "source": [
    "xdata, ydata = df_to_array(temp)"
   ]
  },
  {
   "cell_type": "code",
   "execution_count": 7,
   "id": "d3a74b92-156d-47ed-ab94-3a17431873ae",
   "metadata": {},
   "outputs": [
    {
     "data": {
      "text/plain": [
       "(70086, 5, 1)"
      ]
     },
     "execution_count": 7,
     "metadata": {},
     "output_type": "execute_result"
    }
   ],
   "source": [
    "xdata.shape"
   ]
  },
  {
   "cell_type": "code",
   "execution_count": 8,
   "id": "6b8c2097-f406-490b-90cf-11c0d3fe4d53",
   "metadata": {},
   "outputs": [
    {
     "data": {
      "text/plain": [
       "(70086, 1)"
      ]
     },
     "execution_count": 8,
     "metadata": {},
     "output_type": "execute_result"
    }
   ],
   "source": [
    "ydata.shape"
   ]
  },
  {
   "cell_type": "code",
   "execution_count": 9,
   "id": "fd8f6795-a131-4de7-bc78-2145b09c00b8",
   "metadata": {},
   "outputs": [
    {
     "data": {
      "text/plain": [
       "array([[-8.05],\n",
       "       [-8.88],\n",
       "       [-8.81],\n",
       "       [-9.05],\n",
       "       [-9.63]])"
      ]
     },
     "execution_count": 9,
     "metadata": {},
     "output_type": "execute_result"
    }
   ],
   "source": [
    "xdata[0]"
   ]
  },
  {
   "cell_type": "code",
   "execution_count": 10,
   "id": "5b712fcc-e90e-4914-92c0-37a62feb66e6",
   "metadata": {},
   "outputs": [
    {
     "data": {
      "text/plain": [
       "array([-9.67])"
      ]
     },
     "execution_count": 10,
     "metadata": {},
     "output_type": "execute_result"
    }
   ],
   "source": [
    "ydata[0]"
   ]
  },
  {
   "cell_type": "code",
   "execution_count": 11,
   "id": "45b6282d-4759-4b0e-a285-519caafcf99e",
   "metadata": {},
   "outputs": [],
   "source": [
    "import tensorflow as tf"
   ]
  },
  {
   "cell_type": "code",
   "execution_count": 12,
   "id": "4cb2237c-c374-4123-b178-63bb054f2a45",
   "metadata": {},
   "outputs": [],
   "source": [
    "model = tf.keras.Sequential()"
   ]
  },
  {
   "cell_type": "code",
   "execution_count": 13,
   "id": "e203a6b9-770f-4a74-a9d4-c2eb19f0d183",
   "metadata": {},
   "outputs": [
    {
     "name": "stdout",
     "output_type": "stream",
     "text": [
      "Model: \"sequential\"\n",
      "_________________________________________________________________\n",
      " Layer (type)                Output Shape              Param #   \n",
      "=================================================================\n",
      " lstm (LSTM)                 (None, 128)               66560     \n",
      "                                                                 \n",
      " dense (Dense)               (None, 64)                8256      \n",
      "                                                                 \n",
      " dense_1 (Dense)             (None, 8)                 520       \n",
      "                                                                 \n",
      " dense_2 (Dense)             (None, 1)                 9         \n",
      "                                                                 \n",
      "=================================================================\n",
      "Total params: 75345 (294.32 KB)\n",
      "Trainable params: 75345 (294.32 KB)\n",
      "Non-trainable params: 0 (0.00 Byte)\n",
      "_________________________________________________________________\n"
     ]
    }
   ],
   "source": [
    "model.add(tf.keras.layers.InputLayer(input_shape = (5,1)))\n",
    "model.add(tf.keras.layers.LSTM(128))\n",
    "model.add(tf.keras.layers.Dense(64, 'relu'))\n",
    "model.add(tf.keras.layers.Dense(8, 'relu'))\n",
    "model.add(tf.keras.layers.Dense(1, 'linear'))\n",
    "\n",
    "model.summary()"
   ]
  },
  {
   "cell_type": "code",
   "execution_count": 14,
   "id": "06312d54-5a98-4d7c-8eea-18cc2bd10881",
   "metadata": {},
   "outputs": [],
   "source": [
    "model.compile(\n",
    "    optimizer = tf.keras.optimizers.Adam(),\n",
    "    loss = tf.keras.losses.MeanSquaredError(),\n",
    "    metrics = [tf.keras.metrics.RootMeanSquaredError()])"
   ]
  },
  {
   "cell_type": "code",
   "execution_count": 15,
   "id": "8a33d650-ac77-4efe-970e-1019eb785507",
   "metadata": {},
   "outputs": [
    {
     "data": {
      "text/plain": [
       "70086"
      ]
     },
     "execution_count": 15,
     "metadata": {},
     "output_type": "execute_result"
    }
   ],
   "source": [
    "len(xdata)"
   ]
  },
  {
   "cell_type": "code",
   "execution_count": 16,
   "id": "b1889d45-3e4b-4174-b34b-81a557051394",
   "metadata": {},
   "outputs": [],
   "source": [
    "xtrain = xdata[:65000]\n",
    "xtest = xdata[65000:]\n",
    "ytrain = ydata[:65000]\n",
    "ytest = ydata[65000:]"
   ]
  },
  {
   "cell_type": "code",
   "execution_count": 17,
   "id": "40bd67e3-e2ad-4158-be6b-deb074490a0d",
   "metadata": {},
   "outputs": [
    {
     "data": {
      "text/plain": [
       "(65000, 5, 1)"
      ]
     },
     "execution_count": 17,
     "metadata": {},
     "output_type": "execute_result"
    }
   ],
   "source": [
    "xtrain.shape"
   ]
  },
  {
   "cell_type": "code",
   "execution_count": 18,
   "id": "f87cb221-20a3-4923-a833-1d8765a257ab",
   "metadata": {},
   "outputs": [
    {
     "name": "stdout",
     "output_type": "stream",
     "text": [
      "Epoch 1/30\n",
      "2032/2032 [==============================] - 36s 14ms/step - loss: 1.8251 - root_mean_squared_error: 1.3510 - val_loss: 0.6430 - val_root_mean_squared_error: 0.8019\n",
      "Epoch 2/30\n",
      "2032/2032 [==============================] - 26s 13ms/step - loss: 0.6789 - root_mean_squared_error: 0.8239 - val_loss: 0.6208 - val_root_mean_squared_error: 0.7879\n",
      "Epoch 3/30\n",
      "2032/2032 [==============================] - 29s 14ms/step - loss: 0.6701 - root_mean_squared_error: 0.8186 - val_loss: 0.6988 - val_root_mean_squared_error: 0.8359\n",
      "Epoch 4/30\n",
      "2032/2032 [==============================] - 33s 16ms/step - loss: 0.6660 - root_mean_squared_error: 0.8161 - val_loss: 0.7273 - val_root_mean_squared_error: 0.8528\n",
      "Epoch 5/30\n",
      "2032/2032 [==============================] - 31s 15ms/step - loss: 0.6619 - root_mean_squared_error: 0.8136 - val_loss: 0.6196 - val_root_mean_squared_error: 0.7872\n",
      "Epoch 6/30\n",
      "2032/2032 [==============================] - 40s 20ms/step - loss: 0.6592 - root_mean_squared_error: 0.8119 - val_loss: 0.6132 - val_root_mean_squared_error: 0.7831\n",
      "Epoch 7/30\n",
      "2032/2032 [==============================] - 32s 16ms/step - loss: 0.6551 - root_mean_squared_error: 0.8094 - val_loss: 0.6701 - val_root_mean_squared_error: 0.8186\n",
      "Epoch 8/30\n",
      "2032/2032 [==============================] - 25s 12ms/step - loss: 0.6524 - root_mean_squared_error: 0.8077 - val_loss: 0.6964 - val_root_mean_squared_error: 0.8345\n",
      "Epoch 9/30\n",
      "2032/2032 [==============================] - 28s 14ms/step - loss: 0.6488 - root_mean_squared_error: 0.8055 - val_loss: 0.6120 - val_root_mean_squared_error: 0.7823\n",
      "Epoch 10/30\n",
      "2032/2032 [==============================] - 28s 14ms/step - loss: 0.6442 - root_mean_squared_error: 0.8026 - val_loss: 0.6538 - val_root_mean_squared_error: 0.8086\n",
      "Epoch 11/30\n",
      "2032/2032 [==============================] - 40s 19ms/step - loss: 0.6409 - root_mean_squared_error: 0.8005 - val_loss: 0.6067 - val_root_mean_squared_error: 0.7789\n",
      "Epoch 12/30\n",
      "2032/2032 [==============================] - 26s 13ms/step - loss: 0.6420 - root_mean_squared_error: 0.8013 - val_loss: 0.5999 - val_root_mean_squared_error: 0.7745\n",
      "Epoch 13/30\n",
      "2032/2032 [==============================] - 26s 13ms/step - loss: 0.6389 - root_mean_squared_error: 0.7993 - val_loss: 0.6081 - val_root_mean_squared_error: 0.7798\n",
      "Epoch 14/30\n",
      "2032/2032 [==============================] - 30s 15ms/step - loss: 0.6345 - root_mean_squared_error: 0.7965 - val_loss: 0.6181 - val_root_mean_squared_error: 0.7862\n",
      "Epoch 15/30\n",
      "2032/2032 [==============================] - 25s 12ms/step - loss: 0.6324 - root_mean_squared_error: 0.7952 - val_loss: 0.5920 - val_root_mean_squared_error: 0.7694\n",
      "Epoch 16/30\n",
      "2032/2032 [==============================] - 30s 15ms/step - loss: 0.6329 - root_mean_squared_error: 0.7955 - val_loss: 0.6544 - val_root_mean_squared_error: 0.8090\n",
      "Epoch 17/30\n",
      "2032/2032 [==============================] - 31s 15ms/step - loss: 0.6289 - root_mean_squared_error: 0.7930 - val_loss: 0.5945 - val_root_mean_squared_error: 0.7710\n",
      "Epoch 18/30\n",
      "2032/2032 [==============================] - 29s 14ms/step - loss: 0.6286 - root_mean_squared_error: 0.7929 - val_loss: 0.5890 - val_root_mean_squared_error: 0.7675\n",
      "Epoch 19/30\n",
      "2032/2032 [==============================] - 25s 12ms/step - loss: 0.6284 - root_mean_squared_error: 0.7927 - val_loss: 0.6538 - val_root_mean_squared_error: 0.8086\n",
      "Epoch 20/30\n",
      "2032/2032 [==============================] - 27s 13ms/step - loss: 0.6291 - root_mean_squared_error: 0.7932 - val_loss: 0.5940 - val_root_mean_squared_error: 0.7707\n",
      "Epoch 21/30\n",
      "2032/2032 [==============================] - 31s 15ms/step - loss: 0.6313 - root_mean_squared_error: 0.7945 - val_loss: 0.5917 - val_root_mean_squared_error: 0.7692\n",
      "Epoch 22/30\n",
      "2032/2032 [==============================] - 27s 13ms/step - loss: 0.6225 - root_mean_squared_error: 0.7890 - val_loss: 0.5906 - val_root_mean_squared_error: 0.7685\n",
      "Epoch 23/30\n",
      "2032/2032 [==============================] - 30s 15ms/step - loss: 0.6246 - root_mean_squared_error: 0.7903 - val_loss: 0.6624 - val_root_mean_squared_error: 0.8139\n",
      "Epoch 24/30\n",
      "2032/2032 [==============================] - 27s 13ms/step - loss: 0.6242 - root_mean_squared_error: 0.7901 - val_loss: 0.5801 - val_root_mean_squared_error: 0.7617\n",
      "Epoch 25/30\n",
      "2032/2032 [==============================] - 28s 14ms/step - loss: 0.6243 - root_mean_squared_error: 0.7901 - val_loss: 0.6340 - val_root_mean_squared_error: 0.7963\n",
      "Epoch 26/30\n",
      "2032/2032 [==============================] - 28s 14ms/step - loss: 0.6242 - root_mean_squared_error: 0.7901 - val_loss: 0.6262 - val_root_mean_squared_error: 0.7913\n",
      "Epoch 27/30\n",
      "2032/2032 [==============================] - 28s 14ms/step - loss: 0.6226 - root_mean_squared_error: 0.7890 - val_loss: 0.6114 - val_root_mean_squared_error: 0.7819\n",
      "Epoch 28/30\n",
      "2032/2032 [==============================] - 28s 14ms/step - loss: 0.6227 - root_mean_squared_error: 0.7891 - val_loss: 0.5823 - val_root_mean_squared_error: 0.7631\n",
      "Epoch 29/30\n",
      "2032/2032 [==============================] - 28s 14ms/step - loss: 0.6219 - root_mean_squared_error: 0.7886 - val_loss: 0.6360 - val_root_mean_squared_error: 0.7975\n",
      "Epoch 30/30\n",
      "2032/2032 [==============================] - 28s 14ms/step - loss: 0.6185 - root_mean_squared_error: 0.7864 - val_loss: 0.7401 - val_root_mean_squared_error: 0.8603\n"
     ]
    },
    {
     "data": {
      "text/plain": [
       "<keras.src.callbacks.History at 0x22e8841be10>"
      ]
     },
     "execution_count": 18,
     "metadata": {},
     "output_type": "execute_result"
    }
   ],
   "source": [
    "model.fit(xtrain, ytrain, epochs = 30, validation_data = (xtest, ytest))"
   ]
  },
  {
   "cell_type": "code",
   "execution_count": 19,
   "id": "25d222ec-ab43-4dbd-87b7-a4f38592aa85",
   "metadata": {},
   "outputs": [
    {
     "name": "stdout",
     "output_type": "stream",
     "text": [
      "159/159 [==============================] - 2s 6ms/step\n"
     ]
    }
   ],
   "source": [
    "yhat_test = model.predict(xtest)"
   ]
  },
  {
   "cell_type": "code",
   "execution_count": 29,
   "id": "a36a554a-fa97-4d07-b206-3749daf5848e",
   "metadata": {},
   "outputs": [],
   "source": [
    "small_yhat_test = yhat_test[:100]\n",
    "small_ytest = ytest[:100]"
   ]
  },
  {
   "cell_type": "code",
   "execution_count": 30,
   "id": "ba6740a2-810e-4d66-97db-150eadcfe481",
   "metadata": {},
   "outputs": [
    {
     "data": {
      "text/plain": [
       "100"
      ]
     },
     "execution_count": 30,
     "metadata": {},
     "output_type": "execute_result"
    }
   ],
   "source": [
    "len(small_yhat_test)"
   ]
  },
  {
   "cell_type": "code",
   "execution_count": 31,
   "id": "5afdfb58-f448-4f45-9c53-0732d02caf93",
   "metadata": {},
   "outputs": [
    {
     "data": {
      "text/plain": [
       "[<matplotlib.lines.Line2D at 0x22e88180050>]"
      ]
     },
     "execution_count": 31,
     "metadata": {},
     "output_type": "execute_result"
    },
    {
     "data": {
      "image/png": "[encoded data removed]",
      "text/plain": [
       "<Figure size 640x480 with 1 Axes>"
      ]
     },
     "metadata": {},
     "output_type": "display_data"
    }
   ],
   "source": [
    "plt.plot(small_yhat_test)\n",
    "plt.plot(small_ytest)"
   ]
  },
  {
   "cell_type": "code",
   "execution_count": null,
   "id": "3a88da46-ee82-4ef4-997b-f65fe2b1772c",
   "metadata": {},
   "outputs": [],
   "source": []
  }
 ],
 "metadata": {
  "kernelspec": {
   "display_name": "Python 3 (ipykernel)",
   "language": "python",
   "name": "python3"
  },
  "language_info": {
   "codemirror_mode": {
    "name": "ipython",
    "version": 3
   },
   "file_extension": ".py",
   "mimetype": "text/x-python",
   "name": "python",
   "nbconvert_exporter": "python",
   "pygments_lexer": "ipython3",
   "version": "3.11.3"
  }
 },
 "nbformat": 4,
 "nbformat_minor": 5
}
